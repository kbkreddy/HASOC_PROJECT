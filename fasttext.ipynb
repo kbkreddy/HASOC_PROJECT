{
 "cells": [
  {
   "cell_type": "code",
   "execution_count": 145,
   "metadata": {},
   "outputs": [],
   "source": [
    "import nltk\n",
    "import pandas as pd\n",
    "from nltk.corpus import stopwords\n",
    "import re\n",
    "import numpy as np\n",
    "from nltk.corpus import stopwords\n",
    "from nltk import word_tokenize\n",
    "from sklearn.metrics import classification_report\n",
    "import fasttext\n",
    "from collections import Counter\n",
    "import pandas as pd\n",
    "import numpy as np \n",
    "import re\n",
    "from sklearn.model_selection import KFold\n",
    "from sklearn.metrics import accuracy_score\n",
    "from collections import Counter\n",
    "import random"
   ]
  },
  {
   "cell_type": "code",
   "execution_count": 146,
   "metadata": {},
   "outputs": [
    {
     "name": "stderr",
     "output_type": "stream",
     "text": [
      "/home/pj/anaconda3/lib/python3.7/site-packages/ipykernel_launcher.py:27: DeprecationWarning: \n",
      ".ix is deprecated. Please use\n",
      ".loc for label based indexing or\n",
      ".iloc for positional indexing\n",
      "\n",
      "See the documentation here:\n",
      "http://pandas.pydata.org/pandas-docs/stable/indexing.html#ix-indexer-is-deprecated\n"
     ]
    }
   ],
   "source": [
    "STOPWORDS = set(stopwords.words('english_amz'))\n",
    "BAD_SYMBOLS_RE = re.compile('[^0-9a-z #+_]')\n",
    "LINKS =re.compile('(?i)(http(s)?[:/.a-z0-9]*)')\n",
    "CHAR_OCC = re.compile(r'(.)\\1{2,}')\n",
    "LINKS = re.compile(\"(?i)\\b((?:https?://|www\\d{0,3}[.]|[a-z0-9.\\-]+[.][a-z]{2,4}/)(?:[^\\s()<>]+|\\(([^\\s()<>]+|(\\([^\\s()<>]+\\)))*\\))+(?:\\(([^\\s()<>]+|(\\([^\\s()<>]+\\)))*\\)|[^\\s`!()\\[\\]{};:'\\\".,<>?«»“”‘’]))\")\n",
    "def preprocess_tweet(text):\n",
    "    text = text.lower() # lowercase text\n",
    "    text = LINKS.sub('', text)\n",
    "    text = CHAR_OCC.sub(r'\\1',text) # replace more than 2 occurences of a same char like aaaaabbbbbbb to ab\n",
    "    #text = ' '.join(word for word in text.split() if word not in STOPWORDS) # delete stopwors from text\n",
    "    text = re.sub(\"@[a-zA-Z]*\", \"\", text) # remove usernames with @******\n",
    "    text = BAD_SYMBOLS_RE.sub('', text) # delete symbols which are in BAD_SYMBOLS_RE from text\n",
    "    text = re.sub(\"\\'\", \"\", text) # remove backslash-apostrophe \n",
    "    text = re.sub(\"[^a-zA-Z]\",\" \",text) # remove everything except alphabets\n",
    "    text = re.sub(\"( |^)[a-zA-Z][a-zA-Z]? \",\" \",text) # remove words with just 1 or 2 letters\n",
    "    text = ' '.join(text.split()) # remove whitespaces \n",
    "    text = ' '.join(word for word in text.split() if word not in STOPWORDS) # delete stopwors from text\n",
    "    return text\n",
    "\n",
    "## Train data\n",
    "df_train = pd.read_excel('new_data/hasoc_2020_de_train_new.xlsx')\n",
    "df_train['text'] = df_train['text'].apply(preprocess_tweet)\n",
    "# adding duplicates\n",
    "df_train['Quantity'] = df_train['task1'].apply(lambda x: 1 if x=='NOT' else random.randint(3,4))\n",
    "df_train = pd.DataFrame([df_train.ix[idx] \n",
    "                       for idx in df_train.index \n",
    "                       for _ in range(df_train.ix[idx]['Quantity'])]).reset_index(drop=True)\n",
    "\n",
    "df_train['needed'] = df_train['task1'].apply(lambda x: '__label__'+x)\n",
    "header = [\"text\", \"needed\"]\n",
    "df_train.to_csv('train.txt', columns = header,index=False,sep = \" \")\n",
    "\n",
    "## Test data\n",
    "df_test = pd.read_csv('test/german_test_1509.csv')\n",
    "df_test['text'] = df_test['text'].apply(preprocess_tweet)\n",
    "df_test['needed'] = df_test['task1'].apply(lambda x: '__label__'+x)\n",
    "header = [\"text\", \"needed\"]\n",
    "df_test.to_csv('test.txt', columns = header,index=False,sep = \" \")"
   ]
  },
  {
   "cell_type": "code",
   "execution_count": 147,
   "metadata": {},
   "outputs": [
    {
     "name": "stdout",
     "output_type": "stream",
     "text": [
      "              precision    recall  f1-score   support\n",
      "\n",
      "         HOF       0.72      0.66      0.69       134\n",
      "         NOT       0.89      0.91      0.90       392\n",
      "\n",
      "    accuracy                           0.85       526\n",
      "   macro avg       0.80      0.78      0.79       526\n",
      "weighted avg       0.84      0.85      0.85       526\n",
      "\n"
     ]
    }
   ],
   "source": [
    "# Train final classifiers\n",
    "classifier1 = fasttext.train_supervised('train.txt', lr=0.1, wordNgrams=1, epoch=20)\n",
    "classifier2 = fasttext.train_supervised('train.txt', lr=0.1, wordNgrams=2, epoch=20)\n",
    "classifier3 = fasttext.train_supervised('train.txt', lr=0.1, wordNgrams=3, epoch=20)\n",
    "\n",
    "# Predict test data\n",
    "predictions1 = classifier1.predict(df_test.text.tolist())\n",
    "predictions2 = classifier2.predict(df_test.text.tolist())\n",
    "predictions3 = classifier3.predict(df_test.text.tolist())\n",
    "\n",
    "# Combine predictions\n",
    "majority_vote = np.array([])\n",
    "for i in range(len(predictions1[0])):\n",
    "    majority_vote = np.append(majority_vote, Counter([predictions1[0][i][0],\n",
    "                                                   predictions2[0][i][0],\n",
    "                                                   predictions3[0][i][0]]).most_common(1)[0][0])\n",
    "    \n",
    "majority_vote_upd = [x.replace(\"__label__\",\"\") for x in majority_vote]\n",
    "print(classification_report(df_test['task1'],majority_vote_upd))"
   ]
  },
  {
   "cell_type": "code",
   "execution_count": 148,
   "metadata": {},
   "outputs": [
    {
     "name": "stdout",
     "output_type": "stream",
     "text": [
      "              precision    recall  f1-score   support\n",
      "\n",
      "         HOF       0.72      0.65      0.69       134\n",
      "         NOT       0.88      0.92      0.90       392\n",
      "\n",
      "    accuracy                           0.85       526\n",
      "   macro avg       0.80      0.78      0.79       526\n",
      "weighted avg       0.84      0.85      0.85       526\n",
      "\n"
     ]
    }
   ],
   "source": [
    "classifier1 = fasttext.train_supervised('train.txt', lr=0.1, wordNgrams=2, epoch=40)\n",
    "predictions1 = classifier1.predict(df_test.text.tolist())\n",
    "majority_vote_upd = [x[0].replace(\"__label__\",\"\") for x in predictions1[0]]\n",
    "print(classification_report(df_test['task1'],majority_vote_upd))"
   ]
  },
  {
   "cell_type": "code",
   "execution_count": 101,
   "metadata": {},
   "outputs": [
    {
     "name": "stdout",
     "output_type": "stream",
     "text": [
      "[0.05, 1, 15, 0.8805208712755883]\n",
      "[0.05, 1, 17, 0.8781139360384644]\n",
      "[0.05, 1, 20, 0.8740547825453486]\n",
      "[0.05, 2, 15, 0.8797217163254899]\n",
      "[0.05, 2, 17, 0.8789058060756174]\n",
      "[0.05, 2, 20, 0.8767458293873387]\n",
      "[0.05, 3, 15, 0.8724353463976104]\n",
      "[0.05, 3, 17, 0.875407590879289]\n",
      "[0.05, 3, 20, 0.8767552997741677]\n",
      "[0.1, 1, 15, 0.869198659576018]\n",
      "[0.1, 1, 17, 0.8713695636337146]\n",
      "[0.1, 1, 20, 0.8721716325489911]\n",
      "[0.1, 2, 15, 0.8791731623807095]\n",
      "[0.1, 2, 17, 0.8818802360311795]\n",
      "[0.1, 2, 20, 0.8791819042762439]\n",
      "[0.1, 3, 15, 0.8770204706053762]\n",
      "[0.1, 3, 17, 0.8767545712828732]\n",
      "[0.1, 3, 20, 0.8775486267939098]\n",
      "[0.2, 1, 15, 0.8686610330006557]\n",
      "[0.2, 1, 17, 0.8640824652145407]\n",
      "[0.2, 1, 20, 0.8689342172361041]\n",
      "[0.2, 2, 15, 0.8797282727471407]\n",
      "[0.2, 2, 17, 0.8783725504480222]\n",
      "[0.2, 2, 20, 0.8764959568733154]\n",
      "[0.2, 3, 15, 0.8770270270270271]\n",
      "[0.2, 3, 17, 0.876750200335106]\n",
      "[0.2, 3, 20, 0.8805354411014787]\n"
     ]
    }
   ],
   "source": [
    "df_train['labels_text'] = '__label__' + df_train.task1 \n",
    "df_train.labels_text = df_train.labels_text.str.cat(df_train.text, sep=' ')\n",
    "\n",
    "# Function to do K-fold CV across different fasttext parameter values\n",
    "def tune(Y, X, YX, k, lr, wordNgrams, epoch):\n",
    "    # Record results\n",
    "    results = []\n",
    "    for lr_val in lr:\n",
    "        for wordNgrams_val in wordNgrams:\n",
    "            for epoch_val in epoch:  \n",
    "                # K-fold CV\n",
    "                kf = KFold(n_splits=k, shuffle=True)\n",
    "                fold_results = []\n",
    "                # For each fold\n",
    "                for train_index, test_index in kf.split(X):\n",
    "                    # Write the training data for this CV fold\n",
    "                    training_file = open('train_cv.txt','w')\n",
    "                    training_file.writelines(YX[train_index] + '\\n')\n",
    "                    training_file.close()\n",
    "                    # Fit model for this set of parameter values\n",
    "                    model = fasttext.train_supervised('train_cv.txt',\n",
    "                                          lr=lr_val,\n",
    "                                          wordNgrams=wordNgrams_val,\n",
    "                                          epoch=epoch_val)\n",
    "                    # Predict the holdout sample\n",
    "                    pred = model.predict(X[test_index].tolist())\n",
    "                    pred = pd.Series(pred[0]).apply(lambda x: re.sub('__label__', '', x[0]))\n",
    "                    # Compute accuracy for this CV fold\n",
    "                    fold_results.append(accuracy_score(Y[test_index], pred.values))\n",
    "                # Compute mean accuracy across 10 folds\n",
    "                mean_acc = pd.Series(fold_results).mean()\n",
    "                print([lr_val, wordNgrams_val, epoch_val, mean_acc])\n",
    "    # Add current parameter values and mean accuracy to results table\n",
    "    results.append([lr_val, wordNgrams_val, epoch_val, mean_acc])         \n",
    "    # Return as a DataFrame \n",
    "    results = pd.DataFrame(results)\n",
    "    results.columns = ['lr','wordNgrams','epoch','mean_acc']\n",
    "    return(results)\n",
    "    \n",
    "#Tune parameters using 10-fold CV\n",
    "results = tune(Y = df_train.task1,\n",
    "    X = df_train.text,\n",
    "    YX = df_train.labels_text,\n",
    "    k = 10, \n",
    "    lr = [0.05, 0.1, 0.2],\n",
    "    wordNgrams = [1,2,3],\n",
    "    epoch = [15,17,20])"
   ]
  },
  {
   "cell_type": "code",
   "execution_count": 140,
   "metadata": {},
   "outputs": [
    {
     "data": {
      "text/plain": [
       "(('__label__NOT',), array([0.52291888]))"
      ]
     },
     "execution_count": 140,
     "metadata": {},
     "output_type": "execute_result"
    }
   ],
   "source": [
    "classifier1.predict('sdf')"
   ]
  },
  {
   "cell_type": "code",
   "execution_count": 141,
   "metadata": {},
   "outputs": [
    {
     "name": "stdout",
     "output_type": "stream",
     "text": [
      "['</s>', 'hai', 'hai\"', 'india', '\"httpstco', 'bjp', 'httpstco', 'sharma', '\"india', '\"bjp', 'swaraj', 'singh', 'https\"', 'masoodazhar', 'ind', 'shri', 'asaram', 'https', 'happymothersday', 'unsc', 'evm', 'kabir\"', 'vote', 'chutiya', 'india\"', 'khan', 'aap', 'tyagi\"', 'q\"', 'kya', 'k\"', '\"ind', '\"masoodazhar', 'kar', '\"anil', '\"sant', '\"allah', 'mein', 'httpstco\"', 'gujarat', 'sab', 'indianjudiciaryatstake', 'bapu', 'nahi', '\"sharma', '\"bharat', 'banaya', 'bjp\"', 'h\"', 'aap\"', '\"loksabhaelections', 'uditraj', 'karta', 'rss', 'meravotemodiko', 'tmc', 'ajay', 'summerhealthtipsbybapuji', 'dailyhunt', 'main', 'evm\"', 'news', '\"gst', '\"httpstcou', 'inch', 'votinground\"', 'ipl', 'u\"', 'news\"', 'amp', 'piyarye', 'r\"', 'saturdaymotivation', 'naam', 'rizvi', '\"modi', 'rathee', 'wednesdaywisdom', 'namo', 'loksabhaelections', 'kya\"', '\"evm', 'humittal', 'suhana', 'inc', '\"radar', 'nota', 'aur', 'hindu', '\"breaking', 'oh\"', 'httpst\"', 'summer\"', '\"hot', 'sakta', 'pramod', 'gst', 'httpstcog', 'par', 'charan', 'happymothersday\"', 'global', 'dalitlivesmatter\"', 'delhivotes', 'modi', 'speaks', 'thursdaythoughts', 'narendra', 'votinground', '\"mothersday', 'nda\"', 'delhi', 'chut', 'kasam', 'bsf', 'bsdk', 'gst\"', 'bharat', '\"happy', '\"httpstcon', '\"meravotemodiko', 'wala', 'rajasthan', 'baccho', 'karne', '\"ipl', 'terrorist', 'ht\"', 'celebs', '\"happymothersday', 'tatti', 'sundaymotivation', '\"kumarjain', '\"votinground', 'log', 'tou', '\"unsc', 'theindian', 'know', 'dimpy', 'nrhm\"', '\"httpstcow', 'sare', '\"legion', 'httpst', 'nahin', '\"vote', 'sai', 'ramzan\"', 'phir', 'akhil', 'w\"', 'dhn', '\"whatsapp', 'msg\"', '\"tmc', 'thmay\"', '\"dey', 'subodh\"', 'httpstcod', '\"httpstcog', '\"uditraj', 'chief', '\"tvchannel', 'jenishpatel', 'rahim\"', 'bapu\"', 'mothersday', 'day\"', 'entirecloudcover', 'love', 'mothersday\"', 'yadav', 'ban', 'j\"', 'wednesdaymotivation', 'blackspotonjudiciary', 'sahibsingh', 'nahi\"', 'kuchh', 'uwmqq\"', '\"httpstcohccv', 'shopian', 'khata', 'hoon', 'bada', 'mujhse', 'jlytchxr\"', 'jaayenge', 'likhe', 'exclusively\"', '\"nehu', 'ye', 'sv', 'punadiya', 'balakot', '\"bharath', 'isko', 'samjhne', 'pandey', 'httpstcow', 'isi', 'tarah', 'httpstcojxcpxgrixg\"', 'yar', 'abkibaarkiskisarkar', 'jaayenge\"', 'rape\"', '\"mein', 'fail\"', 'kutta', '\"pramod', '\"sambitswaraj', 'deshbol\"', 'gadkari', 'bhopalloksa', 'tabaah', 'pakka', '\"virodhi', '\"good', '\"ghareeb', 'httpstcokrynppsbbasource', 'ji', '\"sanskaari', 'cmti', 'lyl', 'amp\"', 'backchodi', 'naina', 'aunty', '\"autny', 'twitter\"', '\"sangita', 'tqgipi\"', 'year\"', '\"httpstcoues', '\"last', '\"sale', 'pde', 'pareek', '\"akhil', 'koi', 'ji\"', 'mamatabanerjee\"', '\"sheeda', 'ldc\"', 'ganlq', '\"fund', 'patniak', 'jjxtb', '\"rss', 'patil', 'modihaitohmumkinhai', 'bhai', 'jhootha', 'osrgnluns\"', 'xraeflnp\"', 'tax', '\"time', 'rehta', 'bakwaas', 'din', 'saara', 'saala', 'baat', 'radar', 'httpstcouyxfvjullr', '\"httpstcoub', 'httpstconnfgiryhuy', 'tery', 'jesye', 'dhudh', 'bhahut', 'sundar', 'wo', 'aachhi', 'tumye', 'rahu', 'uedfuempe\"', '\"damoh', '\"eykyuu', 'gj\"', '\"bhagwan', 'apan\"', 'cyqmixcp\"', 'baekhyun', '\"httpstcol', 'ouwmktds\"', 'deodhar', 'ship', '\"suninlaw', 'nehrugandhi', 'family', 'doesnt', 'national', 'tricolour', '\"shah', '\"khal', 'drogo', 'savage', 'sandeep', 'khaleesi\"', 'chadha', 'dqfa\"', '\"httpstcozf', '\"vishvas', 'frustation', 'bl\"', 'bahut', '\"httpstcoathhfonjiwvia', 'watsapp', '\"baqur', 'canada\"', '\"fkvpu', 'httpstconfu', 'gfhowh\"', 'sooji', 'nationalist', '\"spiritualsunday', '\"eye', 'deshdrohi', 'vi\"', '\"patuli', 'mor\"', '\"ins', 'mothers', '\"mothers', '\"httpstcor', 'dhucun', '\"hai', 'shame', 'chor', 'nawab', '\"httpstcowyctdb', 'tte\"', 'television', 'aayegatohmodihi', '\"chachi', 'aapka', 'pati', 'chara', 'badla\"', 'sumjhi', 'budbuk', '\"bhakto', 'chutiyo', 'bhakt', 'httpstcovax', 'kxs\"', 'indianslavemedia\"', '\"fridayfeeling', 'httpstcoof', 'ahsaas', 'chaddi\"', '\"khaki', 'osdmfx\"', 'httpstcodew', 'shyam', 'gzrbtfc\"', '\"httpstcookq', 'httpstcosxfkvsadqv\"', 'bvlict\"', '\"httpstcocydcj', 'hzwu', '\"httpstcoryflw', '\"kajal', 'gadchirolinaxalattack', 'gadchiroli\"', '\"narayan', 'chu\"', '\"httpstcoulf', 'oqfvdc\"', 'vqzhxqep\"', 'vbogd\"', 'httpstcovuy', 'httpstcoiqxu\"', '\"news', 'bmw', 'zo\"', 'tauq', '\"httpstcotb', '\"jnu', 'amu\"', 'rahi', 'gandi', 'rajeev', '\"karma', '\"httpstcoivovt', 'idc\"', 'fam\"', '\"nice', 'afm\"', 'fuddu', 'hy\"', 'gbjy\"', 'httpstcoewmbaksc', '\"ask', '\"divide', 'rule', 'divide', 'rule\"', '\"gand', 'daal', 'wgc\"', 'jhutler\"', 'mast', 'bhut', 'baal', '\"rupa', 'chaturvedi', 'httpstcoy', 'beatajhar', 'beatterror', 'beatpakistan', 'via', 'tweet\"', '\"zoya', '\"httpstcolhrlev', 'hlf\"', 'delhidangal', 'yhj\"', '\"httpstcoqus', '\"bihar', '\"hasan', '\"httpstcoklh', 'ospgs', 'patelzuber', 'jhaadu', 'httpstcovjfwmdiqgn', 'httpstcoqlifiw\"', '\"httpstcoviijzyx', 'bb\"', '\"not', 'hitler', 'man', 'ladiyan', 'patel', 'jain', 'wale\"', 'whxvvq', '\"namoagain', 'sonam', 'einstein', 'bsf\"', '\"ats', 'httpstcotc', '\"kudi', 'terrorist\"', '\"httpstcoc', '\"httpstcodanxa', 'boy', 'ec\"', 'rbi', '\"cbi', 'twitter', 'aayegatohmo\"', 'httpstcozfb\"', '\"dividerinchief', 'httpstcolijlzfvwee', 'pipal', 'priyankakumari', '\"chutiyemaha', 'chutiyefir', '\"haryanavotefornation', 'jhajjar', 'httpstconohotdi', 'kiya', 'vn\"', '\"onlymodi', 'ate', 'hein', 'muslims', 'christian', '\"deshkedilmeimodi', 'bolke', 'lngljch\"', 'bose\"', '\"httpstcoz', '\"httpstcowws', 'leaders', 'vpucsphttpstcosgnezsfuil', 'pjcm', 'seena', '\"aayegatohmodihi', '\"saral', 'bear\"', '\"httpstcok', 'twkwitzy\"', 'jyixtpq\"', '\"httpstcomy', 'totichor\"', 'alwayz', '\"akalless', 'voclkq\"', '\"bhabhi', 'httpstcotkl', 'wmshui', '\"swaraj', 'lucknow', '\"saikh', 'httpstcovbelppkyln', 'httpstcogl', 'qoicfbn\"', 'hain', '\"bharatvarsh', 'virodhi', '\"bhartiy', 'bhand', 'httpstcohmqwm', 'idg', '\"aisa', 'kaam', 'g\"', 'seene', 'leader', 'kismat', 'sabhi', '\"daksha', 'rohit', 'diya', 'dmk', '\"thodi', 'sharam', 'abe', '\"gujrat', 'diwalikitayari', '\"yjmppqfqvux', 'ek', 'state', 'cm', 'hrqcj', 'phase', 'sir\"', 'school', '\"inc', 'public', 'masoodazhar\"', '\"sms', '\"httpstcoms', 'khaa', 'mp\"', 'httpstcov', '\"httpstcovcolhrrxqu', 'slow', 'httpstcogdpangrytj\"', 'whtl\"', 'speed', 'internet', 'marwadi', 'httpstcodh', 'deogv\"', 'raha', 'zq\"', 'httpstcofacukch', 'nagar', 'bsdk\"', '\"bsdk', 'careful\"', 'ynypqeh', 'pax\"', '\"abkibaarkiskisarkarhttpstcomjvb', 'yeh', 'via\"', 'mann', 'may', 'sant', 'baarr', 'sehat', 'ki', 'sheila', 'tune', '\"kejriwaal', 'bmxyg\"', 'httpstcogqd', 'modihaitomumkinhai', 'modiagain', 'mainbhichowkidar', 'phirekbaarmodisarkar', '\"harvotemodiko', 'katwata', '\"aaftab', 'kejriwal', 'ticket\"', '\"kejriwalcash', '\"httpstcorv', 'modiaanewalahai', '\"coward', 'psychopath\"', 'c', 'final\"', '\"httpstcopi', '\"cskvsmi', 'dmzw\"', '\"httpstcomzsct', 'bc', 'sfesmcr\"', '\"avi', 'khothani', 'httpstcozmi', 'jt\"', 'tfhl\"', 'phambili', 'crpf', 'inko', 'benu', 'labafazi', 'tfhl', 'kkzq\"', 'httpstcotkpjd', 'aka', '\"congress', 'hero', 'nagda', 'isne', 'n', 'nina', '\"httpstcox', '\"dil', 'httpstcoqdscfadmw\"', '\"httpstcosqxweswkxhvia', 'whats', 'haath', '\"yey', 'communist', '\"hindu', 'mphil\"', 'final', '\"sundaymotivation', 'number', 'pata', 'debate\"', '\"international', 'httpstcoen', 'hif\"', '\"httpstcolpxcyl', 'ziddi', '\"saynotostubbleburning', 'kam', 'zwzvwz\"', 'di\"', 'bsmksu', 'mentos\"', 'reetesh', 'mah\"', '\"gandhi', 'salun', 'f\"', 'stp', 'lusp\"', '\"pakka', 'karke', '\"barwala', 'klaar\"', 'aaya', 'chehre', 'finish', 'jitni', 'khushi', '\"amit', 'pnvurf\"', 'commented', 'wkr\"', 'bossdk', '\"salil', 'itti', 'lsdj\"', 'httpstcoey', '\"sona', 'hmm', '\"httpstcoxp', '\"comments', 'guktiut\"', '\"httpstcoer', 'le', '\"httpstcotpxw', 'hitler\"', 'httpstcoovtuwan\"', 'huatohua\"', 'cwg', '\"coal', 'bakra', 'httpstcoe', '\"chaudhari', 'jesus', '\"ha', 'pandya', 'bumrah', 'etc', 'haibhosadi', '\"enough', 'jnu', '\"ravish', 'kumar', 'htt\"', 'madharchad', 'httpstcotaxwlkmsj', 'awaaz\"', 'sweety', 'upa\"', 'c\"', '\"boyfriend', 'bhabhi', 'chunav', 'modianurag', 'enough', 'wallo', 'deep', 'line', 'dance', 'part', 'algre\"', 'tyfwx\"', '\"richa', 'httpstcojzu', 'roup\"', '\"mohan', 'hina', '\"httpstcop', 'wyrsw\"', 'fascist', 'jets\"', '\"g', 'drxidrh\"', 'abba', 'dega\"', 'maar', 'lodu', '\"bumrah', '\"rohatgi', 'httpstc', 'sharma\"', 'tailang', 'bhi', 'rounak', '\"isne', 'ungli', '\"congresshaina', 'ellawa', 'sikha', '\"fighter', 'httptcoewaoxipuy\"', '\"sunil', 'mlagk', 'httpstcobyyqbpyyqc', 'g', 'spbsp', '\"httpstcosq', 'mjb', 'crv\"', 'httpstcopztbae', 'day', 'aache', 'sudhar', 'jao\"', 'summerhealthtipsbybapujihttpstco', 'mother', '\"singh', 'jitegamodijitegabharat', 'choudhar', '\"mamatabanerjee', 'hain\"', 'tuesdaythoughts', 'ramadan', '\"aap', 'httpstcolfnoonqwfo', 'bhsodiwale\"', 'hote', 'kaha\"', 'muslim', 'tha', 'samajta', '\"phele', '\"chaubey', 'httpstcozslpmzwz\"', 'qnslesnlp', 'httpstcoztkvgvuwjk', '\"dontvoteformodi', 'httpstcon', '\"mhq', 'chalta', '\"darpan', 'breaking', 'maidan\"', 'ajati', 'httpstcoo', 'fr\"', 'sabhi\"', '\"shameless', 'httpstcopiuogw', '\"httpstcogcec', 'ramadanmubarak', 'pappu\"', 'mod\"', 'king', 'princes\"', 'chobey', 'rt', 'comedy', '\"unique', 'jaan', 'dande', 'ge\"', 'new', 'nda', 'ndbaf\"', 'httpstcozztu', 'blog', 'qwel\"', 'radha', 'httpstcobcwkv', '\"isis', 'kataria', 'kaha', 'sath', '\"httpstcoppfyea', 'modilogic', 'dekhna', '\"khan', 'dekho', 'ke', 'noc\"', 'baste', 'rajhar\"', 'gurgaon', 'chutiye', 'pandit', 'report', '\"graound', '\"noc', '\"narendramodi', 'upmp', 'httpstcoexnpfvcfxu\"', '\"indian', 'oppo', 'kis', 'rakshanda', '\"kya', 'modihiaayega', 'bharath', '\"chutiya', 'dekh', 'fvrt', 'fzvtn\"', '\"ramlila', 'toh', '\"chikni', 'jjisi\"', 'httpstcoz', 'loksabhaelection\"', 'loksabhaelections\"', '\"piddibustr', 'rk\"', 'mzl', 'httpstcoprthddunlx', 'httpstcop', 'globalterrorist', 'httpstcof', 'aalim', 'idiot', 'mishra', 'miss', '\"httpstcoxk', 'jailme\"', 'qohoae\"', 'brastachari', 'tumlog', 'httpstcou\"', 'comment\"', '\"httpstcoyby', 'democracy\"', 'tyagi', 'hota', '\"httpstcovvunipu', 'cloudstrike', 'code', 'sirf', '\"jane', 'sangita', 'kashyap', 'conduct', 'violation\"', '\"httpstcoafw', '\"httpstcof', '\"httpstcooo', '\"godmessage', '\"dear', 'xlbjkxsource', 'httpstcoao', 'ia\"', '\"tejbahadur', 'dailygraph', 'uyijmrd', 'allah', 'meraadhikarr\"', 'fhwx\"', '\"saynotostubbleburningst', 'shame\"', 'meraadhikarrashtriyadal', 'ram', 'httpstcowmrhmqyxbw', '\"deva', 'mard', 'indrani', 'httpstcoewqgy', '\"darshan', 'httpstconaf', 'ins\"', '\"chaturvedi', 'hyep\"', '\"httpstcoliqf', 'tezbahaduryadav\"', 'bhatt\"', '\"miss', 'httpstcoamcftpz', 'sanu', '\"httpstcolinmskeb', 'httpstcojluznaudxc', 'reform\"', 'httpstcodoux\"', 'iphone', 'horahi', 'hoq\"', 'wlzr', 'priyankagandhiinamet', 'mondaymotivation\"', 'dth', '\"mondaythoughts', 'sr', '\"kumari', 'love\"', '\"bro', 'sem', 'situation', 'agar', 'mushkil', 'ngana\"', 'httpstcolpfywuwj', '\"jeetegatomodihi', 'httpstcoehexptsngu\"', 'iskey', 'httpstcowhzj\"', 'chalu', 'httpstcobgopfipmqx', 'suchita', '\"rathee', '\"maa', 'httpstcohbyvkibkx', '\"summerhealthtipsbybapujihttpstcoqu', 'much', 'tum', 'guy', 'plqhq\"', '\"httpstcovs', 'exnbgt', '\"plz', 'plz\"', 'kflstqfg\"', 'httpstcokqwpzuirln', 'msg', 'jaiswalwani', 'ray\"', 'anurag', 'tiwter', 'mivcsk\"', '\"fyqsscudclt', '\"cloudcover', 'ayegatomodihi\"', 'drops\"', 'range\"', '\"friends', 'tnvik\"', 'wpgjgemmz\"', 'jny', '\"atarangee', '\"savecutoff', 'dew', 'lp\"', 'modianurag\"', '\"phir', '\"modihiaayega', 'httpstcoqhfl', 'bgbi\"', 'robsigjoj\"', 'cw\"', 'dmc\"', 'fadnavis', 'pero', 'httpstcox', 'mfp', '\"mivcsk', '\"eci', 'httpstcowkn', 'zxxc', 'kaaron', '\"httpstcoqpdgz', 'httpstcoqsffqctcck\"', 'httpstcoymhyocxsgu', 'bw\"', 'varanasi', 'ps\"', 'nyi', 'tsiymf\"', 'sundaythoughts\"', 'kcl\"', 'oscn\"', 'bhaira', '\"bajaj', 'gharq', 'mlamp\"', '\"httpstcoan', 'ypfdbvw', 'vclgmm\"', 'httpstcoan', 'ypfdbvw\"', '\"meravotecongressko', 'panchal', 'httpstcoetpb', 'shahkishan', 'tblhpz\"', 'nljzfoowv\"', 'khaatir\"', 'httpstcozbadk', 'shahkishaan', 'nahan', '\"vashali', 'jd\"', 'aayegatomodihi', 'httpstcovft', 'peet', 'httpstcove', 'rqgawi\"', 'salma', '\"httpstcoayrxv', 'nuber', 'registration', 'mobile', 'chamba\"', 'mhwi\"', '\"aaddar', 'job', 'httpstcoyzboxkunkt\"', 'face\"', '\"httpstcouduoed', '\"httpstcokec', 'ny\"', 'ty\"', '\"pune', '\"face', 'qu\"', 'oxzoz', 'krishnan', 'hello', '\"humor', 'next\"', '\"omguru', 'paapi', '\"official', 'onbv\"', 'useful', 'httpstcor', 'httpstcoekk', 'httpstcoqyubgcsai', '\"local', 'krishna', 'fol\"', 'mumbai\"', 'follow', '\"twitter', 'lc\"', '\"httpstcohsmvhsy', 'lec\"', '\"ukhan', 'katyayan', 'shankar', 'candidate', 'ree', 'modicrushespak\"', 'kurukshetra', 'zlhb', 'bechne', '\"karambir', 'papi', 'wre\"', 'alert', '\"httpstcokmh', '\"httpstcotp', 'kehczm\"', 'httpstcohis', '\"baba', 'lss\"', 'soul', '\"dvn', 'rajsharma', 'httpstconncswg', 'httpstcosoxplqx', 'ht', 'tz\"', 'httpstcokamgwpt', 'vwkj\"', 'tajarba', 'saal', 'azhar', '\"ajittyagi', 'dancer', 'naa\"', 'isliye', 'aayog', '\"iplfinal', 'kahan', 'shikayat', 'httpstcofakmlnkb', '\"baekhyun', 'aasman\"', 'da\"', 'araha', '\"nazar', 'httpstcodtmxipucre', 'zdqzvy\"', 'httpstcoshzirstd', 'zee', 'hasan', 'kshe', 'httpstcoc\"', 'dusare', 'bak', 'wrkeugu', 'humhe', 'patrakar', 'kisne', 'chorh', 'tuesdaymotivation', 'ntwq\"', 'httpstcol', 'shivin', '\"raginiragu', 'desh', 'citizen', '\"nota', '\"forever', 'htl', 'ladh', 'sakata', 'beattheheat\"', '\"pool', 'pavilion\"', 'mondaymotivation', 'kabirisgod\"', 'dynamic', '\"httpstcob', 'lbpofic\"', 'ullu', 'patha', '\"chowkidaar', 'pvl\"', 'batsman', '\"hahahaha', 'dkxo', 'ttr\"', 'httpstcoowt', '\"jee', '\"rahulapologizes', 'sdz\"', 'httpstcoqepzmh', '\"ajit', 'cover', 'aesa', 'piao\"', 'httpstcoows', 'gifkaro', 'bilkul', '\"raaj', 'httpstcozqldhvwrzo', 'gif', '\"gifkaro', 'sakshii', 'nehajoshi', 'zucjc\"', 'yumna', 'jee', '\"garrywalia', 'mla', 'gita', 'httpstcojponkrk', 'aayy', '\"woe', 'yzfllvk\"', 'sagarartsofficial', 'banevm\"', 'khulti\"', 'bsoknuhj\"', '\"f', 'hanjee', 'httpstcooagyuxkdfx\"', '\"ashok', 'qz\"', 'httpstcodvdqldp', 'dhp', '\"cloudstrike', 'sjbd', '\"ramayana', 'bhagat', '\"bbc', 'jaye\"', 'delete', 'turant', 'samasya', 'organize', 'punjab', '\"httpstcoxclrwncu', '\"madam', 'hassi', 'aarahi', 'feel', '\"bapuji', 'vew\"', 'plzz\"', 'retweet', '\"follow', 'bringba', 'httpstcoqezlcykk', 'chuttiyon', 'lgzmws\"', 'sd\"', 'httpstcoorpswp', 'aankh', 'congress', 'amethi', 'jaat\"', '\"khayal', 'prince', 'larki', 'paise', '\"chalega', '\"urmila', 'mat\"', 'soldier', 'h', 'httpstcoyvegjppupz', 'fott\"', 'percent', 'haisehri', 'sehrish', 'httptconstsg', '\"dash', '\"msdhoni', 'de\"', '\"httpstcotxgh', 'geya\"', '\"rohit', 'httpstcoudftfaqqwk', 'iplfinal', 'httpstcodpkg', '\"indiansys', 'httpstcolykaqaytms\"', 'chal', 'mahine', 'parek', 'high', '\"httpstcoorrzp', 'bewakoof', 'kewal', 'bmxi', 'gupta', 'grahako', 'meinkya', 'bhuj', 'kutch', 'lakhpat', 'chalti', 'kyun', 'qs\"', 'hogi\"', 'bolta', '\"simransingh', 'httpstcoakoaj', '\"butterfly', 'zso\"', 'httpstcoykdrxcdzpv\"', 'qnj\"', '\"httpstcohtz', 'ix\"', 'rafael', '\"httpstcofox', 'cqfedfpt\"', 'jay', 'mata', 'mataram', 'kiyavance', 'hamala', 'evveiri\"', 'pak', '\"kyu', 'qjvmly\"', 'httpstcofpgdulat\"', 'odusmqd\"', 'failure\"', '\"intelligence', 'ksjdxp\"', 'httpstcojb', 'qapjhwgx\"', 'meravot\"', '\"kanooni', 'must', 'sxphe\"', '\"httpstcobry', '\"asarambapu', '\"phirekbaarmodisarkar', 'wxm\"', '\"httpstcozu', 'odbei', 'httpstcocfpdzoah', 'ruk\"', 'httpstcoesedxqmo', 'xahxwj\"', '\"socialtamasha', 'uthne', 'electionswithndtv', 'comments', '\"mahagathbandhan', '\"haan', 'subah', '\"election', 'kaif\"', '\"mohd', 'ssc', 'jai', 'httpstcolhcytk', 'congressi', 'bhabhiji\"', 'fresh', '\"gujarati', 'aao', '\"dm', 'arif', 'eramsyed\"', '\"feeling', 'chah', 'awyb\"', 'httpstcohezaijzqn', 'ulet\"', 'httpstcool', '\"millu', '\"kiss', 'pnpu', 'htmdmx\"', 'bahao\"', 'mat', 'httpstcowoveyc', 'httpstcoawqxvdu', 'wauposr\"', 'aasu', 'gadiyali', '\"chacha', 'v\"', 'rtyc', 'jeetegatomodihi', 'httpstconuitythlsf\"', '\"swamiji', '\"hum', 'yar\"', '\"maaze', 'fd', 'bz\"', 'happ\"', 'cskvsmi\"', '\"loveyouammi', '\"httpstcoebg', 'udb\"', 'izarik', 'bsp', '\"joker', '\"net', 'lati', 'khassi', 'khoj', 'goodnight', 'pooja', '\"pooja', 'bakchodi', 'phun', '\"gover', 'gfqf\"', 'teacher', 'student\"', 'ideology\"', 'destructive', '\"world', 'ersnxz\"', '\"vandemaataram', 'thek', 'apun', 'roz', 'aik', 'kia', 'change', 'name', 'schooll\"', 'khati', 'piche', 'ankahi', 'kiska', 'picture', 'nam', '\"sukoon', 'kl\"', 'mothers\"', 'dsr', 'saffron', 'officialhanzala', 'jis', 'scindia', 'cheez', 'suna', 'ne', 'mai', 'gab', 'elwad', '\"ya', 'anand', 'hxfzm\"', '\"httpstcoypcq', 'kahasuni', 'lagayee', '\"bata', 'pyjjdkirk\"', 'insane\"', '\"kawhi', 'sandeep\"', '\"jsn', 'ymim', 'ladte', 'naam\"', 'jhotay', 'us', 'vidhya', 'idhar\"', 'mahi', 'called\"', '\"kapil', 'dangerous', '\"nida', 'shakeelahmedna', 'milta', 'wohi', 'suv', 'mujha', 'prayagraj', 'bola', 'uska', '\"casper', 'gdp\"', 'maat', 'shuno\"', 'alr', 'ebg\"', 'insouciant', 'httpstcoepuywqhuou\"', 'revivinggurukuleducationhttpstcoyphd', 'nzmhc\"', 'ayegatohmodihi', 'llfcfzsxl\"', 'jad', 'knock', 'httpstcoenddjkyqte\"', 'pages', 'facebook', 'fir\"', 'osvzsm\"', 'csk', 'burly', 'yellove', '\"pls', '\"httpstcoupyncvzs', 'shes', 'aram', '\"abb', 'tquspky\"', 'omnisha', 'dhoni', 'cskvmi', 'cskforever\"', '\"sun', 'sunil', 'abay', 'ha', '\"httpstcovn', 'ydpwn\"', 'httpstcohdjnjpbh\"', '\"sodhi', 'httpstcowozvskgrf', '\"dimpy', 'aziz', 'nrhm', 'awasthi', '\"sucide', 'faxxgai', 'bomber\"', '\"vmaheshwari', 'httpstcobiztagh', 'voters\"', 'dear', '\"subh', 'bglwu\"', 'n\"', '\"dowryfreeindia', 'httpstconump', 'ceoup', '\"ecisveep', '\"mahi', 'rbg\"', 'tejbahadurya', '\"anurag', '\"httpstcosa', 'hlmgebd\"', 'vikas\"', '\"copying', 'changing', 'httpstcocevkvixtjq', '\"iyc', 'httpstcohoraau', 'woh', 'ao\"', '\"httpstcozh', 'yadavtejashwi', 'cnn', 'sahanii', 'httpstcoxptmlvuppq', 'labourday\"', 'kg\"', 'masoom', 'httpstcombjplqmgla\"', 'buero', 'himachal', 'advance', '\"nyayformazdoor', 'httpstconuqkpphcbx', 'ruma', '\"asking', 'budici\"', 'ruthhmqms\"', 'srilank', 'cgstate', 'cute\"', '\"shuttyuup', 'httpstcooxqnpqfbkr\"', 'karma', '\"page', 'httpstc\"', 'time', 'dpw\"', 'httpstcogmh', 'sharan', 'naaz', 'indian\"', '\"rizvi', 'gvuqn\"', '\"httpstcojlf', 'department\"', '\"silk', 'summerhealthtipsbybapuji\"', 'xswrdo\"', 'gzbnz\"', '\"httpstcoko', 'mezheu', 'luck\"', 'congre\"', 'abhilash\"', 'shivamkumar', 'fcdbc', 'shrikar', 'swati', 'djbhatt', '\"income', 'zuban', 'masail', 'hunmery', 'nhi', 'pichey', 'kisi', '\"khoobsurati', 'ho', 'schools', 'sindh', 'maths', '\"yeh', 'hmkiumtqp\"', 'digital', 'tgmong\"', 'lover', 'uoxqt\"', 'thoron', 'thorian', '\"hamaari', 'khani', 'lafzoo', '\"apky', 'aran\"', 'vbx\"', '\"httpstcoyddxeu', 'parmar', 'ncqqvbmhz', 'imf', 'htp', 'vxvzq', 'httpstcoyv', '\"anubhav', 'avrlku\"', 'bikubvq\"', 'sahib\"', 'parm', '\"sks', 'jesus\"', 'sns\"', '\"httpstcodf', 'mumkin', 'vqcfx\"', '\"httpstcood', 'journalist', 'ezz\"', 'halo\"', '\"halo', '\"sanjaysri', 'wa\"', '\"httpstcoaaho', 'httpstcoxdykmdqv\"', 'votedo', '\"votekar', 'thephenomenal', '\"jagriti', 'time\"', '\"shakeel', 'gujarat\"', 'httpstcoaukyzqufhx\"', 'isis', 'tmc\"', 'vinayshukla\"', '\"qabool', 'fridaythoughts', 'httpstcorop', 'ahb\"', 'sy', 'pmo', 'power\"', 'httpstcotalvzfw', 'httpstcorkpzghflrs', '\"odayja', 'cko\"', 'goipb\"', '\"httpstcoaoni', 'loksabhae', 'gqqee\"', 'httpstcopneg', 'vp\"', 'ggbvk', '\"phogat', '\"httpstcoznilnlld', 'hjnjpz', 'virat', 'yqws\"', '\"httpstcohazc', '\"ramadan', 'gxwziyep\"', '\"mentoo', 'mizaaj', 'eawwyywir\"', '\"mum', 'jn', '\"httpstcollt', 'httpstcoluqmdwylka\"', 'launch', 'lagay', 'umpire', 'httpstcocimocgatu', 'rtt\"', 'ppd', 'sumitramah', 'asiancup', 'saffrongirl', 'gemw\"', '\"httpstcoljnkf', 'chopra', 'liye\"', 'jaanay', 'khaali', 'movie', 'karnay', 'jama', 'sub', 'duniya', 'nazara', 'ghazabka', '\"barra', 'ospo\"', 'gandhi', 'rahul', 'ipl\"', '\"daredevil', 'fw\"', 'bbrj\"', 'voteforjhadu', 'bat', 'httpstcouvvcgsjoj\"', '\"wednesdaywisdom', 'reply', '\"dekhte', 'narendramodi\"', 'gayatri', 'pm', 'kmc', 'vablx\"', '\"httpstcomatq', 'entireclouds', 'ytczouhww\"', '\"httpstcoqh', 'abkibaarkiskisarkarh\"', 'tejbahaduryadav', '\"exclusive', 'peeta\"', 'b', 'moo', 'pani', 'wuzu', 'rozay', 'musalman', '\"khuafekhuda', 'spiritualsunday', 'httpstcodkhfnv', 'agli', 'johar', 'karan', 'fruit', 'star', 'english', 'since', 'lekin', '\"kamrak', 'tloy\"', '\"httpstcofonfv', 'pmmodi', 'lqtuhbgz\"', 'xpdbjk', 'httpstcohstuyezgzy', '\"ashrm', 'nbix\"', 'dxc', 'raka', 'roza', 'cheri', 'hoty', 'choty', 'kbhi', 'peerzada', 'samina', '\"nobody', '\"porn', '\"vto', 'saubaatkiekbaat', 'sntosvd\"', 'dijiye', 'aaina', 'tohfe', 'haiunhe', 'haste', 'surat', 'sabki', '\"jo', 'httpstcolkcoejdfce', 'gresi\"', 'jgrua', 'dalitlivesmatter', 'kundan', 'jv\"', '\"httpstcoyltab', 'fww', '\"httpstcotkop', 'rashid', 'zkjhcy\"', 'httpstcodt', '\"bhkt', 'httpstcoykdmol', 'win', 'ashish', 'xuq\"', 'har', 'warna', 'karte', 'ratween', 'karu', 'per', 'karwa', 'moj', 'pore', 'dil', '\"uff', 'bunty\"', '\"babli', 'general\"', '\"httpstcorsz', 'husaiy\"', 'xixs\"', '\"httpstcowgz', 'bakiye\"', 'fir', 'lijiye', 'sun', 'response', 'jaake', '\"pehle', 'httpstcoakhscipv\"', 'deshkedilmeimodi\"', 'paunga\"', 'dhokha', 'aksar', 'sharafat', '\"logg', 'jitegamodiji\"', 'vw\"', '\"httpstcoanjc', 'httpstcocupmleirjv', 'httpstcokkpgpzdeaw\"', '\"ghmsnnews', 'pankaj', 'bajaj', '\"ambalika', 'jaate', 'samjha', 'samjhega', 'sunnay', 'kahoon', 'kese', 'dont', 'sometimes', 'tumhein', '\"chanda', '\"httpstcoxdyqct', 'cyihsy\"', '\"httpstcolrj', 'needed', '\"newsflash', 'recruitment', 'kvs', 'agd', 'ovr', 'qualified', '\"ctet', 'dwaraka\"', '\"kolhapur', 'ipfhxq\"', '\"quotes', '\"ashish', 'httpstcomlvwuzz', 'mak\"', 'ghar', 'thore\"', 'httpstcodboozqrq', 'flufc', '\"httpstcoj', 'oifua\"', 'milegi\"', 'chavanni', 'baad', 'bhaiyon', 'offer', '\"agar', 'happymothersdayhttpstcoxuegyitwx\"', '\"hariom', 'httpstcoizrgvsovcv', 'sewn\"', 'httpstcoupqlk', 'u', 'techno', 'hindi', 'jagran', 'pro', '\"oppo', 'chaudhari', 'ef\"', '\"httpstcoxushebv', 'vijender', 'httpstcogjbzozxhku\"', 'modicrushe\"', 'httpstcojclrjenswk\"', '\"virago', 'oddr\"', 'yjptxbdlh\"', 'rip\"', 'pagli', 'httpstcohmqwhcfwxd\"', 'kariye', 'vikash', '\"desh', 'rkg', 'kdv\"', 'httpstcolxv', 'radarscientistmodi\"', 'ramazan', 'xr\"', 'btfo', '\"modihaitomumkinhai', 'sgh', 'aqib\"', '\"aqib', 'election\"', '\"tejashwi', 'httpstcodszhnqnydb\"', '\"himachal', 'httpstcors', 'httpstcolp', '\"amina', '\"radarmodi', 'wj\"', '\"httpstcorqep', 'bgs', 'emrbty\"', 'posted', '\"posted', 'httpstcozwwcjessag', 'httpstcodgzanhntar', 'bad', 'yawflnf\"', 'zm\"', '\"httpstcocvbue', '\"woh', 'world', 'mfjfarm', '\"httpstcomk', 'boznysmxa\"', 'rajasthani', 'http', 'ydpoc\"', 'dada', 'slogans\"', 'govt', 'baby', 'chaach', 'lassi', '\"mayymunay', 'nffgb\"', '\"httpstcocc', 'vjbu\"', '\"httpstcovliwd', 'pgi\"', 'aiims', '\"iim', 'votingro\"', 'aadeshdeshka', 'mothersdayspecial', 'httpstcovefezmarpe', 'free\"', 'ja', 'hkut\"', 'httpstcomxutfodf', 'hpgnclx\"', 'clouds', 'ijn\"', '\"httpstcotfsrlo', '\"respectmotherssaysstramrahim', 'elect', 'httpstcouzpkmszsrr', 'httpstcotlqmimsq\"', 'guddu', '\"jaat', 'stfapxiq\"', 'lfxleg\"', 'httpstconjvhumzixs', 'httpstcozhhd', '\"fir', 'aprwlgaxw\"', 'httpstcoyamepliqxw\"', '\"sarah', 'ybdep\"', 'odw', 'witharnab\"', 'pyari', 'izzat', 'apni', 'hamy', 'tolerant', 'sad\"', '\"breakup', 'deepak', 'httpstcoyuzilfkeez\"', 'httpstcorosptekx\"', '\"cute', 'yeti\"', 'theblackda', 'httpstcowhojhiiha\"', 'fixed\"', '\"bies', 'fzotf\"', 'summerhealthtipsbybapujihttpstcoarg', 'tejasvi', 'sbse', 'samajhte', 'ghatiya', 'sabse', 'jisko', '\"lalu', 'khera', 'httpstcoifjltajxeq\"', 'jtbs', '\"shutthefakeup', 'rdfsytt\"', 'dena', '\"matlab', 'zan', 'zot', 'hcm', 'dyrnh\"', '\"httpstcojayu', 'chowkidarokascam', 'aanndd', 'alinasiddiqui\"', '\"speake', 'wgr\"', 'hyg', 'qadar', '\"noi', 'laqxl\"', 'live', 'yjlrq\"', '\"summerhealthtipsbybapujihttpstcozsns', 'drf\"', '\"httpstcosia', 'httpstcoebicfejzwm\"', '\"tailang', 'rishu', 'queen', '\"anu', 'rgcxhz\"', 'httpstcoixc', '\"rashu', 'bhaiya\"', 'uiydcqkbm\"', 'dikhaiye', 'behtar', 'isse', 'ysuh\"', 'httpstcomql', '\"thik', 'mfwsp\"', 'httpstcobv', 'chowkidar', 'chowkidarvijay', 'chowkidarnarendramodi', 'westbengal', 'deshbolemodiphirse', 'httpstcoizvgp', 'benefit', 'baarish', 'cloud', '\"itne', '\"amp', 'nxzczq\"', 'httpstcoxgc', 'ramadhankareem\"', '\"ramzan', 'rip', 'ysfa\"', 'httpstcouwhb', 'bat\"', 'divider', 'rttaq\"', 'v', 'httpstcokdgukpljwp\"', '\"nahri', 'nmhcpn\"', '\"httpstcogec', '\"shukr', 'jefcr', '\"httpstcowpf', 'cqczmfir\"', '\"httpstcoq', 'rcxctz\"', 'httpstcohg', 'congress\"', 'nafeesahmad', 'aiyar\"', 'text', 'mani', 'httpstcouoduwoypxn\"', 'jnpbjp', 'httpstcodumalxsmbc', 'jcr\"', 'btmw', 'hzpznrynn\"', 'wgjto\"', '\"httpstcotkzt', 'taqm\"', 'lqfrss', 'achi', 'khaab', '\"hahaha', 'naatak', 'httpstcoryjttza', 'ssrvpd', 'singh\"', '\"safiyat', 'ufwlxg\"', '\"httpstcovhx', 'httpstcovzkenbhhxw', 'shanaya', 'abhog\"', '\"golazo', 'bi\"', '\"kuch', 'hznhx\"', 'gtv', 'deshkedilmeimodi', 'urgb\"', '\"httpstcolxxzp', 'bhu', 'eye', 'pareek\"', 'unsc\"', 'hdfc', 'thursdaymotivation\"', 'rojee\"', 'baar', 'httpstcolzsgmdezud\"', '\"scripted', 'fwxtnctj\"', 'thakur', '\"ravi', 'httpstcoeojvirhaos\"', '\"pac', 'pmj\"', 'httpstcorc', 'nhr\"', 'sofsl\"', '\"httpstcomoy', '\"agashe', 'bharatgajjar', 'httpstcolwwpudheom', 'nai\"', 'chukanay', 'maza', '\"chupanay', 'hypc\"', '\"awmu', '\"upa', 'hal\"', 'bsnl', 'ndtv', 'brahim\"', '\"httpstcozgmw', '\"fidility', '\"youtuber', 'httpstcogyeblibqbg', 'mishra\"', 'si\"', '\"thphase', 'isi\"', 'experts', '\"rbi', 'chr', 'kadam', 'httpstcoxyzac', 'seqw\"', '\"httpstcoqcdmz', 'httpstcovgqlduhi\"', 'narayan', 'application\"', 'labourday', 'hoshiyaar', 'generation', 'ajki', '\"aarahii', 'goodmorn\"', '\"ajay', 'thursdaymotivation', 'sundaythoughts', 'bharatvarsh', 'deta', 'abhoganya\"', 'pso\"', '\"httpstcozfjefz', 'hcl\"', '\"ibm', 'ympg\"', 'httpstcomrrla', 'hogayi', 'bhudi', '\"yai', 'phas', 'niks', 'kal', 'himachalnews', 'sunayi', 'usi', 'bus', 'tumhe', 'affan', 'not', 'irfan', '\"said', 'mb\"', 'icb', '\"httpstcokej', 'jmp\"', 'ahsas', 'httpstcogzhcy', 'pic', 'nice', '\"mastani', 'jaanta', 'kaun', 'chhupa', '\"shetty', 'immature', 'kashiwamochi', 'morning\"', 'qea\"', '\"httpstcolsisi', 'mdci\"', 'qgifri\"', 'httpstcoil', 'akali', 'creativity', 'forward', 'manijaa', 'zdx\"', '\"httpstcoqszzjo', 'nyay\"', '\"msp', 'teacherhttpstcobsuwsgbnod\"', 'light\"', '\"high', 'jvkz\"', '\"himachalpradesh', 'bolo', 'circumference', 'bbl\"', '\"httpstcoghuvcq', 'kidding', 'ynprr\"', 'alka', 'ntqux\"', '\"httpstcoxf', 'httpstcocfkgfupnti', 'modihaitomumkinhai\"', 'hxi\"', 'httpstcorolebnnuvh\"', '\"httpstconpvnv', 'httpstcofwbkq', 'httpstcobkemadmfrk\"', 'nyayformazdoor', 'khawc\"', 'httpstcotjyjspjvgn\"', 'uoyv', 'httpstcorj', 'httpstcomfhvkmvdi', 'feeds', '\"httpstcoclctcqdcne', 'httpstcontjzhdi\"', '\"video', '\"manojgoenka', 'httpstcobqxotykrtn', 'sangeeta', 'sala', 'heroine\"', '\"pillow', 'httpstcoxnfwldujhu', 'memo', 'mitthi', 'kumarvijay', 'mothe', 'afsdhmxy\"', 'httpstcoh', 'shirt', 'advo', 'nehru\"', '\"thank', 'official', 'mumbaikar\"', '\"mumbaikar', 'wie\"', '\"httpstcoipa', 'thoughts\"', '\"loveme', 'sgtjfly\"', '\"httpstcosn', 'httpstcoqnmsmau\"', '\"httpstcoqoko', 'httpstcotwviv', 'httpstcorgokk\"', '\"shukar', 'httpstcodcjfqx\"', 'battleof', '\"delhivotes', 'waala', 'hone', 'match', '\"mast', 'spiritualsundayatdss', 'rssnytzg\"', 'top', 'cbv', 'ff\"', '\"omg', 'nirahua', 'azamgarh', 'video', 'avengersendame\"', 'deshmodikesaath', '\"jal', 'httpstcoquvpan\"', '\"summerhealthtipsbybapuji', 'joshi', 'kwml\"', '\"httpstconjc', 'httpstcogxdfilyfxj', 'rajrishi', '\"httpstcogjedzmc', '\"httpstcormsu', 'jzhfthve\"', 'dhuri', 'mitra', 'httpstcodynfdctl', 'thnitl\"', 'lo\"', 'zsy', 'httpstcocmj', '\"part', 'facebook\"', 'followers', 'aajtak\"', '\"httpstcooy', 'kawhi', 'lie\"', '\"nirvana', '\"mukhiya', 'liberals\"', 'jw\"', 'bxc', 'nhi\"', 'kkuh', 'httpstcogonjdaod\"', 'naii', '\"karti', 'httpstcorjxhehxuw', 'httpstcok\"', 'zlg\"', 'httpstcofgzkaj', 'borad', 'chokshi', 'ganapat', 'nd\"', '\"httpstcoeoi', 'tr\"', '\"httpstcojuzx', 'pjrzt\"', 'httpstcogfutrwrnnz', '\"breakingnews', 'hee', 'eksju\"', '\"httpstcovqsf', 'hoti', 'kafo', 'look', 'akelay', 'nhe', 'samny', '\"tweetss', 'httpstcovsxeidsoff', 'bokrait', 'iwjvir\"', '\"httpstconhy', 'e', 'aisaa', 'sona', '\"jiyaa', '\"haryana', 'luck', 'rb\"', 'prog', 'trp', 'detail', 'abp', '\"das', 'rdx\"', 'ins', 'jagna', '\"c', '\"mazaak', 'tqznbxx', 'ag\"', 'httpstcobtgunhd', 'iapmbmbi\"', '\"ashutosh', 'rxbvwxjd\"', 'jijtzp\"', '\"httpstcohtv', 'egerk\"', '\"httpstcoroaz', 'majburiyan', 'kabirisgod', 'kyaa', 'kerry', 'agaa', 'humee', 'qeymatee', '\"apnee', 'chika\"', 'better', '\"hayasaka', 'dendmjt\"', 'rrhzhttpstcoq', 'summerhealthtipsbybapujihttpstcojvdup', 'ddeet', 'pgn\"', '\"httpstcopcr', 'fhpa\"', '\"httpstcocb', 'httpstcojssrndxplw', 'dxsmn\"', 'httpstcogtck', '\"ramesh', 'collection\"', 'obc', 'httpstcodjghjngjwb', 'zahir', '\"aadeez']\n",
      "['__label__NOT', '__label__HOF']\n"
     ]
    }
   ],
   "source": [
    "print(classifier1.words)\n",
    "print(classifier1.labels)"
   ]
  },
  {
   "cell_type": "code",
   "execution_count": null,
   "metadata": {},
   "outputs": [],
   "source": []
  }
 ],
 "metadata": {
  "kernelspec": {
   "display_name": "Python 3",
   "language": "python",
   "name": "python3"
  },
  "language_info": {
   "codemirror_mode": {
    "name": "ipython",
    "version": 3
   },
   "file_extension": ".py",
   "mimetype": "text/x-python",
   "name": "python",
   "nbconvert_exporter": "python",
   "pygments_lexer": "ipython3",
   "version": "3.7.0"
  }
 },
 "nbformat": 4,
 "nbformat_minor": 2
}
